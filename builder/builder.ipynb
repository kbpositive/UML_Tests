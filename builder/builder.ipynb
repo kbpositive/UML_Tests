{
 "cells": [
  {
   "cell_type": "code",
   "execution_count": 16,
   "metadata": {},
   "outputs": [],
   "source": [
    "# a builder to create weapons for games\n",
    "class Skill:\n",
    "    def __init__(self, builder):\n",
    "        self.mana = builder.mana\n",
    "        self.level = builder.level\n",
    "        self.weapon = builder.weapon\n",
    "        self.element = builder.element\n",
    "\n",
    "class SkillBuilder:\n",
    "    def __init__(self):\n",
    "        self.mana = None\n",
    "    \n",
    "    def set_mana(self, mana):\n",
    "        self.mana = mana\n",
    "        return self\n",
    "    \n",
    "    def set_level(self, level):\n",
    "        self.level = level\n",
    "        return self\n",
    "    \n",
    "    def set_weapon(self, weapon):\n",
    "        self.weapon = weapon\n",
    "        return self\n",
    "    \n",
    "    def set_element(self, element):\n",
    "        self.element = element\n",
    "        return self\n",
    "    \n",
    "    def build(self):\n",
    "        return Skill(self)"
   ]
  },
  {
   "cell_type": "code",
   "execution_count": 12,
   "metadata": {},
   "outputs": [],
   "source": [
    "skillbuilder = SkillBuilder()\n",
    "\n",
    "skillbuilder.set_mana(3)\n",
    "\n",
    "skill1 = skillbuilder.build()"
   ]
  },
  {
   "cell_type": "code",
   "execution_count": 15,
   "metadata": {},
   "outputs": [
    {
     "data": {
      "text/plain": [
       "3"
      ]
     },
     "execution_count": 15,
     "metadata": {},
     "output_type": "execute_result"
    }
   ],
   "source": [
    "skill1.mana"
   ]
  },
  {
   "cell_type": "code",
   "execution_count": null,
   "metadata": {},
   "outputs": [],
   "source": []
  }
 ],
 "metadata": {
  "kernelspec": {
   "display_name": "base",
   "language": "python",
   "name": "python3"
  },
  "language_info": {
   "codemirror_mode": {
    "name": "ipython",
    "version": 3
   },
   "file_extension": ".py",
   "mimetype": "text/x-python",
   "name": "python",
   "nbconvert_exporter": "python",
   "pygments_lexer": "ipython3",
   "version": "3.12.2"
  }
 },
 "nbformat": 4,
 "nbformat_minor": 2
}
